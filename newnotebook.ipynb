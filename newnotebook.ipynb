{
 "cells": [
  {
   "cell_type": "code",
   "execution_count": 1,
   "id": "92f64826-ca80-4f05-8a21-8554f671ba77",
   "metadata": {},
   "outputs": [
    {
     "name": "stdout",
     "output_type": "stream",
     "text": [
      "hello\n"
     ]
    }
   ],
   "source": [
    "print(\"hello\")\n"
   ]
  },
  {
   "cell_type": "code",
   "execution_count": null,
   "id": "10b64deb-8aed-4477-b6cb-ed0d0cb91198",
   "metadata": {},
   "outputs": [],
   "source": [
    "a=2\n",
    "result=10"
   ]
  },
  {
   "cell_type": "code",
   "execution_count": null,
   "id": "5f090be6-dd5f-4445-894f-aadfc32807a5",
   "metadata": {},
   "outputs": [],
   "source": [
    "#Arithematic Operator "
   ]
  },
  {
   "cell_type": "code",
   "execution_count": 12,
   "id": "7c234fcb-a81b-447a-8246-565ead3b9e16",
   "metadata": {},
   "outputs": [
    {
     "name": "stdout",
     "output_type": "stream",
     "text": [
      "python\n"
     ]
    }
   ],
   "source": [
    "name=\"python\"\n",
    "print(name)"
   ]
  },
  {
   "cell_type": "code",
   "execution_count": 6,
   "id": "82926345-83c6-484c-a425-f403d4495d75",
   "metadata": {},
   "outputs": [
    {
     "name": "stdout",
     "output_type": "stream",
     "text": [
      "python\n"
     ]
    }
   ],
   "source": [
    "name=\"python\"\n",
    "print(name)"
   ]
  },
  {
   "cell_type": "code",
   "execution_count": 8,
   "id": "21991195-14aa-4d2e-8383-5d6e823bc884",
   "metadata": {},
   "outputs": [
    {
     "name": "stdout",
     "output_type": "stream",
     "text": [
      "Hi! My Name is  python\n"
     ]
    }
   ],
   "source": [
    "#if no inverted comma, it will print the value .\n",
    "#with inverted comma it will print the messegs .\n",
    "\n",
    "print (\"Hi! My Name is \",name)\n"
   ]
  },
  {
   "cell_type": "code",
   "execution_count": 14,
   "id": "a41f8ac6-9de9-4b34-99b8-13a97932c9e3",
   "metadata": {},
   "outputs": [
    {
     "name": "stdout",
     "output_type": "stream",
     "text": [
      "python this is high level lang\n"
     ]
    }
   ],
   "source": [
    "print(name,\"this is high level lang\")\n",
    "      "
   ]
  },
  {
   "cell_type": "code",
   "execution_count": 15,
   "id": "684fb1a4-7523-464c-a0bb-f7f858b9e56d",
   "metadata": {},
   "outputs": [],
   "source": [
    "#HOW TO TAKE INPUT\n"
   ]
  },
  {
   "cell_type": "code",
   "execution_count": 16,
   "id": "2e766539-5216-44db-8ed2-ab0c670e9a0d",
   "metadata": {},
   "outputs": [
    {
     "name": "stdin",
     "output_type": "stream",
     "text": [
      "enter your name Priyanka\n"
     ]
    },
    {
     "name": "stdout",
     "output_type": "stream",
     "text": [
      "Hi! Priyanka\n"
     ]
    }
   ],
   "source": [
    "name=input(\"enter your name\")\n",
    "print(\"Hi!\",name)"
   ]
  }
 ],
 "metadata": {
  "kernelspec": {
   "display_name": "Python 3 (ipykernel)",
   "language": "python",
   "name": "python3"
  },
  "language_info": {
   "codemirror_mode": {
    "name": "ipython",
    "version": 3
   },
   "file_extension": ".py",
   "mimetype": "text/x-python",
   "name": "python",
   "nbconvert_exporter": "python",
   "pygments_lexer": "ipython3",
   "version": "3.13.0"
  }
 },
 "nbformat": 4,
 "nbformat_minor": 5
}
