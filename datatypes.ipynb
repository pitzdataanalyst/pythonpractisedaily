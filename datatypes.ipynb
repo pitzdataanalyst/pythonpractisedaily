{
 "cells": [
  {
   "cell_type": "markdown",
   "id": "a3563d87-1c24-420d-b589-6bd6b5436e26",
   "metadata": {},
   "source": [
    "#number datatype\n",
    "\n",
    "#integer datatype\n",
    "1) whole number - without any decimals \n",
    "2) any length of number \n",
    "3) it can store +\\- numbers \n",
    "4) data type is given by"
   ]
  },
  {
   "cell_type": "code",
   "execution_count": 2,
   "id": "d0ebc180-3122-4580-a71a-edcf4e1be1e2",
   "metadata": {},
   "outputs": [
    {
     "name": "stdout",
     "output_type": "stream",
     "text": [
      "83\n",
      "<class 'int'>\n"
     ]
    }
   ],
   "source": [
    "age = 83\n",
    "print(age)\n",
    "print(type(age))\n"
   ]
  },
  {
   "cell_type": "code",
   "execution_count": 5,
   "id": "3d1c3a9a-cca2-4482-8fed-ff0d000be230",
   "metadata": {},
   "outputs": [
    {
     "name": "stdout",
     "output_type": "stream",
     "text": [
      "-420\n"
     ]
    }
   ],
   "source": [
    "covid_cases=-420\n",
    "print(covid_cases)\n"
   ]
  },
  {
   "cell_type": "code",
   "execution_count": 7,
   "id": "5d7acdcf-b8d7-4023-a0e2-b14d0efb193c",
   "metadata": {},
   "outputs": [
    {
     "name": "stdout",
     "output_type": "stream",
     "text": [
      "1234569888834783597676879999999999904986350905329028\n"
     ]
    }
   ],
   "source": [
    "big_num=1234569888834783597676879999999999904986350905329028\n",
    "print(big_num)\n"
   ]
  },
  {
   "cell_type": "code",
   "execution_count": 10,
   "id": "4c27d685-cd51-46e4-8541-2a366815ee96",
   "metadata": {},
   "outputs": [
    {
     "ename": "SyntaxError",
     "evalue": "unmatched ')' (1067412008.py, line 2)",
     "output_type": "error",
     "traceback": [
      "\u001b[1;36m  Cell \u001b[1;32mIn[10], line 2\u001b[1;36m\u001b[0m\n\u001b[1;33m    1)it contains only decimal values\u001b[0m\n\u001b[1;37m     ^\u001b[0m\n\u001b[1;31mSyntaxError\u001b[0m\u001b[1;31m:\u001b[0m unmatched ')'\n"
     ]
    }
   ],
   "source": [
    "#Float datatype\n",
    "1)it contains only decimal values \n",
    "2) it can have +\\- values\n",
    "3) it can have any limit\n",
    "4) a powered number is written with letter E or e\n",
    "5) it is denoted by (class 'float')"
   ]
  },
  {
   "cell_type": "code",
   "execution_count": 13,
   "id": "ca4dc38d-d7f4-4ee4-b1b8-83822d22add2",
   "metadata": {},
   "outputs": [
    {
     "name": "stdout",
     "output_type": "stream",
     "text": [
      "<class 'float'>\n"
     ]
    }
   ],
   "source": [
    "weight=58.67\n",
    "print(type(weight))"
   ]
  },
  {
   "cell_type": "code",
   "execution_count": 14,
   "id": "4e59aab3-4ea2-4362-9bff-351341d76b27",
   "metadata": {},
   "outputs": [
    {
     "name": "stdout",
     "output_type": "stream",
     "text": [
      "-56.98\n"
     ]
    }
   ],
   "source": [
    "weight2= -56.98\n",
    "print(weight2)\n"
   ]
  },
  {
   "cell_type": "code",
   "execution_count": 16,
   "id": "1ed2f865-d630-449e-8894-5b4950fea1d5",
   "metadata": {},
   "outputs": [
    {
     "name": "stdout",
     "output_type": "stream",
     "text": [
      "8.27e+27\n"
     ]
    }
   ],
   "source": [
    "mass=8.27e27\n",
    "print(mass)"
   ]
  },
  {
   "cell_type": "code",
   "execution_count": 20,
   "id": "304ca979-ae23-4415-a3f3-76cdc666dd1d",
   "metadata": {},
   "outputs": [
    {
     "name": "stdout",
     "output_type": "stream",
     "text": [
      "25645878980910.0\n"
     ]
    }
   ],
   "source": [
    "big_no=25645878980909.999756313255880\n",
    "print(big_no)"
   ]
  },
  {
   "cell_type": "code",
   "execution_count": 22,
   "id": "11bdea2c-8cdb-4c82-acf7-abf779a5e227",
   "metadata": {},
   "outputs": [
    {
     "name": "stdout",
     "output_type": "stream",
     "text": [
      "<class 'float'>\n"
     ]
    }
   ],
   "source": [
    "num=2/3\n",
    "print(type(num))"
   ]
  },
  {
   "cell_type": "code",
   "execution_count": 26,
   "id": "1e8e554d-9b8b-4c9e-8aa3-44bae7303f0c",
   "metadata": {},
   "outputs": [
    {
     "name": "stdout",
     "output_type": "stream",
     "text": [
      "6.0\n"
     ]
    }
   ],
   "source": [
    "divisible=12/2\n",
    "print(divisible)\n"
   ]
  },
  {
   "cell_type": "code",
   "execution_count": 28,
   "id": "35ee4030-b0da-44a5-ac69-9ed64aa72d03",
   "metadata": {},
   "outputs": [
    {
     "name": "stdout",
     "output_type": "stream",
     "text": [
      "<class 'int'>\n",
      "1\n"
     ]
    }
   ],
   "source": [
    "num=5//3\n",
    "print(type(num))\n",
    "print(num)"
   ]
  },
  {
   "cell_type": "code",
   "execution_count": 37,
   "id": "6798075d-41a4-44f4-95ca-73f52b8f28ff",
   "metadata": {},
   "outputs": [
    {
     "name": "stdout",
     "output_type": "stream",
     "text": [
      "<class 'int'>\n",
      "<class 'float'>\n",
      "<class 'str'>\n",
      "<class 'complex'>\n",
      "<class 'list'>\n",
      "<class 'tuple'>\n",
      "<class 'range'>\n",
      "<class 'bool'>\n"
     ]
    }
   ],
   "source": [
    "cab=12\n",
    "taxi=12.0\n",
    "print(type(cab))\n",
    "print(type(taxi))\n",
    "x = \"Hello World\"\n",
    "print(type(x))\n",
    "x2 = 1j\n",
    "print(type(x2))\n",
    "x3 = [\"apple\", \"banana\", \"cherry\"]\n",
    "print(type(x3))\n",
    "x4= (\"apple\", \"banana\", \"cherry\")\n",
    "print(type(x4))\n",
    "x5= range(6)\n",
    "print(type(x5))\n",
    "x6= True\n",
    "print(type(x6))"
   ]
  },
  {
   "cell_type": "code",
   "execution_count": null,
   "id": "0c0cae59-c5e1-46c8-8268-871edd8d004c",
   "metadata": {},
   "outputs": [],
   "source": []
  },
  {
   "cell_type": "code",
   "execution_count": 38,
   "id": "ffd381aa-e507-4131-a4f9-f3e865660004",
   "metadata": {},
   "outputs": [
    {
     "ename": "SyntaxError",
     "evalue": "unmatched ')' (2661360638.py, line 2)",
     "output_type": "error",
     "traceback": [
      "\u001b[1;36m  Cell \u001b[1;32mIn[38], line 2\u001b[1;36m\u001b[0m\n\u001b[1;33m    1) real number or imaginary numbers\u001b[0m\n\u001b[1;37m     ^\u001b[0m\n\u001b[1;31mSyntaxError\u001b[0m\u001b[1;31m:\u001b[0m unmatched ')'\n"
     ]
    }
   ],
   "source": [
    "#complex number \n",
    "1) real number or imaginary numbers \n",
    "2) real numbers (int) or (float)\n",
    "3) imaginary (sqrt) (-1) 2+5i\n",
    "1.2 imaginary no is denoted by j \n"
   ]
  },
  {
   "cell_type": "code",
   "execution_count": 41,
   "id": "26e397c8-676e-4db4-997c-dabadf9b6ce1",
   "metadata": {},
   "outputs": [
    {
     "name": "stdout",
     "output_type": "stream",
     "text": [
      "<class 'complex'>\n"
     ]
    }
   ],
   "source": [
    "no=2+5j\n",
    "print(type(no))"
   ]
  },
  {
   "cell_type": "code",
   "execution_count": 43,
   "id": "8ff016c6-5e3a-42c8-acff-fb24e7fd8b86",
   "metadata": {},
   "outputs": [
    {
     "name": "stdout",
     "output_type": "stream",
     "text": [
      "<class 'complex'>\n"
     ]
    }
   ],
   "source": [
    "s=7-3J\n",
    "print(type(s))"
   ]
  },
  {
   "cell_type": "code",
   "execution_count": 45,
   "id": "562e396a-683f-421c-ae31-7a54d3dead19",
   "metadata": {},
   "outputs": [
    {
     "name": "stdout",
     "output_type": "stream",
     "text": [
      "<class 'complex'>\n"
     ]
    }
   ],
   "source": [
    "no2=5.5-7.5J\n",
    "print(type(no2))"
   ]
  },
  {
   "cell_type": "markdown",
   "id": "be2b58a3-32ed-4f65-b66d-c238316ef79b",
   "metadata": {},
   "source": [
    "#sequence datatypes\n",
    "1)string\n",
    "2)list\n",
    "3)float"
   ]
  },
  {
   "cell_type": "code",
   "execution_count": 54,
   "id": "56263a09-8538-48ee-b3d5-0225453c1f8b",
   "metadata": {},
   "outputs": [
    {
     "name": "stdout",
     "output_type": "stream",
     "text": [
      "<class 'str'>\n",
      "<class 'str'>\n",
      "hie this is priyu.\n",
      "this is python class.\n",
      "tysm for the class\n",
      "Hie this is priyu.this is python class.tysm for the class\n"
     ]
    }
   ],
   "source": [
    "#1)string\n",
    "# it stores alphabets,numbers,symbols\n",
    "# is given by ' ' , \" \", '''', \"\"\"\"\" \n",
    "# inverted commas is used to write multiline string \n",
    "#properties : ordered,duplicates,index,immutable = cannot be change manually as it is already declared \n",
    "name=\"pri\"\n",
    "print(type(name))\n",
    "animal='tiger'\n",
    "print(type(animal))\n",
    "\n",
    "intro ='''hie this is priyu.\n",
    "this is python class.\n",
    "tysm for the class'''\n",
    "print(intro)\n",
    "\n",
    "# \"\"\" is similar to multiline statement\n",
    "intro2 ='Hie this is priyu.\\\n",
    "this is python class.\\\n",
    "tysm for the class'''\n",
    "print(intro2)\n"
   ]
  },
  {
   "cell_type": "code",
   "execution_count": 55,
   "id": "f7036877-6f19-4c04-9d05-7aa94fd6cb04",
   "metadata": {},
   "outputs": [
    {
     "ename": "SyntaxError",
     "evalue": "invalid syntax. Perhaps you forgot a comma? (2748351690.py, line 1)",
     "output_type": "error",
     "traceback": [
      "\u001b[1;36m  Cell \u001b[1;32mIn[55], line 1\u001b[1;36m\u001b[0m\n\u001b[1;33m    print('I dind't know)\u001b[0m\n\u001b[1;37m          ^\u001b[0m\n\u001b[1;31mSyntaxError\u001b[0m\u001b[1;31m:\u001b[0m invalid syntax. Perhaps you forgot a comma?\n"
     ]
    }
   ],
   "source": [
    "print('I dind't know)"
   ]
  },
  {
   "cell_type": "code",
   "execution_count": 57,
   "id": "f87c5394-feb5-48a9-8556-5313358a7603",
   "metadata": {},
   "outputs": [
    {
     "name": "stdout",
     "output_type": "stream",
     "text": [
      " I didn't know about today's Class\n"
     ]
    }
   ],
   "source": [
    "print(\" I didn't know about today's Class\") "
   ]
  },
  {
   "cell_type": "code",
   "execution_count": 66,
   "id": "e63bcec5-5b69-4c65-94cb-c65fce316e26",
   "metadata": {},
   "outputs": [
    {
     "data": {
      "text/plain": [
       "'r'"
      ]
     },
     "execution_count": 66,
     "metadata": {},
     "output_type": "execute_result"
    }
   ],
   "source": [
    "#positive indexing \n",
    "name1=\"priyanka\"\n",
    "name1[0]\n",
    "\n",
    "#negetive indexing\n",
    "name=\"Taklikar\"\n",
    "name[-1]"
   ]
  },
  {
   "cell_type": "code",
   "execution_count": 68,
   "id": "721b7c32-0a4f-4539-8853-85fb16f1011f",
   "metadata": {},
   "outputs": [
    {
     "data": {
      "text/plain": [
       "' '"
      ]
     },
     "execution_count": 68,
     "metadata": {},
     "output_type": "execute_result"
    }
   ],
   "source": [
    "random =\"I didn't know about today's session\"\n",
    "random[1]"
   ]
  },
  {
   "cell_type": "code",
   "execution_count": 72,
   "id": "1eb1ee52-bae0-431a-93e5-99ba3daa4600",
   "metadata": {},
   "outputs": [
    {
     "ename": "SyntaxError",
     "evalue": "unterminated string literal (detected at line 6) (1708860208.py, line 6)",
     "output_type": "error",
     "traceback": [
      "\u001b[1;36m  Cell \u001b[1;32mIn[72], line 6\u001b[1;36m\u001b[0m\n\u001b[1;33m    space after didn't\u001b[0m\n\u001b[1;37m                    ^\u001b[0m\n\u001b[1;31mSyntaxError\u001b[0m\u001b[1;31m:\u001b[0m unterminated string literal (detected at line 6)\n"
     ]
    }
   ],
   "source": [
    "index no for letters \n",
    "k\n",
    "t\n",
    "s from session \n",
    "n from session\n",
    "space after didn't\n"
   ]
  },
  {
   "cell_type": "code",
   "execution_count": 74,
   "id": "e9eb8946-6c2f-4a5f-b34c-1101a4311470",
   "metadata": {},
   "outputs": [
    {
     "name": "stdout",
     "output_type": "stream",
     "text": [
      "'\n",
      "s\n"
     ]
    }
   ],
   "source": [
    "print(random[25])\n",
    "print(random[28])"
   ]
  },
  {
   "cell_type": "code",
   "execution_count": 76,
   "id": "b9c9b986-d258-4cc1-961a-49cd11f13fc3",
   "metadata": {},
   "outputs": [
    {
     "ename": "SyntaxError",
     "evalue": "unterminated string literal (detected at line 1) (3154896703.py, line 1)",
     "output_type": "error",
     "traceback": [
      "\u001b[1;36m  Cell \u001b[1;32mIn[76], line 1\u001b[1;36m\u001b[0m\n\u001b[1;33m    string=' I am a developer.i write codes\"\u001b[0m\n\u001b[1;37m           ^\u001b[0m\n\u001b[1;31mSyntaxError\u001b[0m\u001b[1;31m:\u001b[0m unterminated string literal (detected at line 1)\n"
     ]
    }
   ],
   "source": [
    "string=' I am a developer.i write codes\"\n",
    "print(string)"
   ]
  },
  {
   "cell_type": "code",
   "execution_count": 78,
   "id": "41f6aaf2-e98b-4acc-96e7-94969a057917",
   "metadata": {},
   "outputs": [
    {
     "name": "stdout",
     "output_type": "stream",
     "text": [
      "<class 'str'>\n"
     ]
    }
   ],
   "source": [
    "single= 'a'\n",
    "print(type(single))\n"
   ]
  },
  {
   "cell_type": "code",
   "execution_count": 82,
   "id": "5fa8b005-83f7-480c-bf6e-c1aba0b0cfaf",
   "metadata": {},
   "outputs": [
    {
     "name": "stdout",
     "output_type": "stream",
     "text": [
      "python class\n"
     ]
    }
   ],
   "source": [
    "#concatination \n",
    "num1 = \"5\"\n",
    "num2 = \"4\"\n",
    "num1+num2\n",
    "print(\"python\"+\" \"+\"class\")"
   ]
  },
  {
   "cell_type": "code",
   "execution_count": 84,
   "id": "b9bec4a1-324d-4b1f-b529-b0f2eeb3e046",
   "metadata": {},
   "outputs": [
    {
     "data": {
      "text/plain": [
       "'samsamsam'"
      ]
     },
     "execution_count": 84,
     "metadata": {},
     "output_type": "execute_result"
    }
   ],
   "source": [
    "#repetation\n",
    "name = \"sam\"\n",
    "name*3"
   ]
  },
  {
   "cell_type": "code",
   "execution_count": 85,
   "id": "6a1d1688-eb7d-4060-9080-984b4f3cf8c6",
   "metadata": {},
   "outputs": [],
   "source": [
    "#sclicing a string\n",
    "random =\"I didn't know about today's session\"\n",
    "\n",
    "#variable[starting index number: end index no +1:ss]\n"
   ]
  },
  {
   "cell_type": "code",
   "execution_count": 90,
   "id": "c3ffec99-d305-47ce-99bd-d12f097355b1",
   "metadata": {},
   "outputs": [
    {
     "name": "stdout",
     "output_type": "stream",
     "text": [
      "know\n"
     ]
    }
   ],
   "source": [
    "print(random[9:12+1])"
   ]
  },
  {
   "cell_type": "code",
   "execution_count": 91,
   "id": "ba6098de-1fce-4b77-bd45-e37731f501a5",
   "metadata": {},
   "outputs": [
    {
     "name": "stdout",
     "output_type": "stream",
     "text": [
      "know\n"
     ]
    }
   ],
   "source": [
    "print(random[9:13])"
   ]
  }
 ],
 "metadata": {
  "kernelspec": {
   "display_name": "Python 3 (ipykernel)",
   "language": "python",
   "name": "python3"
  },
  "language_info": {
   "codemirror_mode": {
    "name": "ipython",
    "version": 3
   },
   "file_extension": ".py",
   "mimetype": "text/x-python",
   "name": "python",
   "nbconvert_exporter": "python",
   "pygments_lexer": "ipython3",
   "version": "3.13.0"
  }
 },
 "nbformat": 4,
 "nbformat_minor": 5
}
