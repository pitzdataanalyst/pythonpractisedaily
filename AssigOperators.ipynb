{
 "cells": [
  {
   "cell_type": "code",
   "execution_count": 1,
   "id": "8a133a69-860f-4534-8496-411ac95db76d",
   "metadata": {},
   "outputs": [],
   "source": [
    "#Assignment Operators \n",
    "#the work is to assign value , because your are assigning the value so the output will bw a Numerical only ."
   ]
  },
  {
   "cell_type": "code",
   "execution_count": 4,
   "id": "53c14c76-873b-4f65-a040-5c7202c2aeb2",
   "metadata": {},
   "outputs": [
    {
     "name": "stdout",
     "output_type": "stream",
     "text": [
      "78\n",
      "piyu\n"
     ]
    }
   ],
   "source": [
    "Name=\"piyu\"\n",
    "num=78\n",
    "print (num)\n",
    "print(Name)"
   ]
  },
  {
   "cell_type": "code",
   "execution_count": 5,
   "id": "0e2ae3da-8362-465e-a07b-fee8afdaeb18",
   "metadata": {},
   "outputs": [],
   "source": [
    "#add and assign operator \n",
    "a=10 #simple assignment "
   ]
  },
  {
   "cell_type": "code",
   "execution_count": 12,
   "id": "5253b89e-02f6-4819-bab1-290203910428",
   "metadata": {},
   "outputs": [
    {
     "name": "stdout",
     "output_type": "stream",
     "text": [
      "24\n"
     ]
    }
   ],
   "source": [
    "#we ahve written both in the seprate cell because we ahve to incremembnt the value \n",
    "a +=2 #we are incrementing the value \n",
    "print(a)\n"
   ]
  },
  {
   "cell_type": "code",
   "execution_count": 13,
   "id": "b356c7d6-f73f-47b2-8b83-46c94c188d53",
   "metadata": {},
   "outputs": [],
   "source": [
    "#sub and assign\n",
    "life_span=100\n",
    "reduction=10"
   ]
  },
  {
   "cell_type": "code",
   "execution_count": 27,
   "id": "469d5ffb-f28e-484a-8ae0-7fa5b7e323a5",
   "metadata": {},
   "outputs": [
    {
     "name": "stdout",
     "output_type": "stream",
     "text": [
      "-320\n"
     ]
    }
   ],
   "source": [
    "life_span -=reduction\n",
    "print(life_span)"
   ]
  },
  {
   "cell_type": "code",
   "execution_count": 33,
   "id": "0bd3e63c-5bcd-4644-acb2-b77d455d3849",
   "metadata": {},
   "outputs": [],
   "source": [
    "#mul and assign\n",
    "b=10 "
   ]
  },
  {
   "cell_type": "code",
   "execution_count": 44,
   "id": "f0a49008-1b7c-4081-841a-21d429ea8796",
   "metadata": {},
   "outputs": [
    {
     "name": "stdout",
     "output_type": "stream",
     "text": [
      "20480\n"
     ]
    }
   ],
   "source": [
    "b *=2\n",
    "print(b)"
   ]
  },
  {
   "cell_type": "code",
   "execution_count": 45,
   "id": "38925a45-bd85-4238-a7d4-3d76411969ec",
   "metadata": {},
   "outputs": [],
   "source": [
    "#(/,//,%)\n",
    "c=10"
   ]
  },
  {
   "cell_type": "code",
   "execution_count": 47,
   "id": "977204e2-895e-4cc9-87e4-00bcddb0b9c3",
   "metadata": {},
   "outputs": [
    {
     "name": "stdout",
     "output_type": "stream",
     "text": [
      "2.5\n"
     ]
    }
   ],
   "source": [
    "c /=2\n",
    "print(c)"
   ]
  },
  {
   "cell_type": "code",
   "execution_count": 48,
   "id": "e623ba01-f841-4de0-844b-e70a9a981487",
   "metadata": {},
   "outputs": [],
   "source": [
    "d=15"
   ]
  },
  {
   "cell_type": "code",
   "execution_count": 50,
   "id": "45920916-fb4b-4ad5-8531-e7b8ff41d2ab",
   "metadata": {},
   "outputs": [
    {
     "name": "stdout",
     "output_type": "stream",
     "text": [
      "1\n"
     ]
    }
   ],
   "source": [
    "d //=3\n",
    "print(d)"
   ]
  },
  {
   "cell_type": "code",
   "execution_count": 51,
   "id": "603cfca6-e81a-4e36-bcca-eee01a81d8bc",
   "metadata": {},
   "outputs": [],
   "source": [
    "e=25"
   ]
  },
  {
   "cell_type": "code",
   "execution_count": 58,
   "id": "6f65aeef-350e-429d-b011-278b11671c91",
   "metadata": {},
   "outputs": [
    {
     "name": "stdout",
     "output_type": "stream",
     "text": [
      "0\n"
     ]
    }
   ],
   "source": [
    "e %=5\n",
    "print(e)"
   ]
  },
  {
   "cell_type": "code",
   "execution_count": null,
   "id": "e0b85f3d-3540-4fbc-ab7f-72f535b9cafb",
   "metadata": {},
   "outputs": [],
   "source": []
  },
  {
   "cell_type": "code",
   "execution_count": 61,
   "id": "7f472080-4f1a-45ac-952d-3622e5d0b228",
   "metadata": {},
   "outputs": [
    {
     "name": "stdout",
     "output_type": "stream",
     "text": [
      "salary of current year 21000\n"
     ]
    }
   ],
   "source": [
    "#WAP to calculate your salary & salary increment for 2 years by 13% and 23% \n",
    "hra=1000\n",
    "ta=4000\n",
    "da=4000\n",
    "pf=3000\n",
    "basic=15000\n",
    "salary=(basic+hra+ta+da)-pf\n",
    "print(\"salary of current year\",salary)"
   ]
  },
  {
   "cell_type": "code",
   "execution_count": 65,
   "id": "b8b323b8-7912-477a-bb25-87a79d92e2a9",
   "metadata": {},
   "outputs": [
    {
     "name": "stdout",
     "output_type": "stream",
     "text": [
      "the salary after 2 years  48066.194610000006\n"
     ]
    }
   ],
   "source": [
    "salary = salary + (0.23*salary)\n",
    "print(\"the salary after 2 years \",salary)\n"
   ]
  },
  {
   "cell_type": "code",
   "execution_count": null,
   "id": "4d95d652-04c7-493f-993a-c00a517d171e",
   "metadata": {},
   "outputs": [],
   "source": []
  }
 ],
 "metadata": {
  "kernelspec": {
   "display_name": "Python 3 (ipykernel)",
   "language": "python",
   "name": "python3"
  },
  "language_info": {
   "codemirror_mode": {
    "name": "ipython",
    "version": 3
   },
   "file_extension": ".py",
   "mimetype": "text/x-python",
   "name": "python",
   "nbconvert_exporter": "python",
   "pygments_lexer": "ipython3",
   "version": "3.13.0"
  }
 },
 "nbformat": 4,
 "nbformat_minor": 5
}
