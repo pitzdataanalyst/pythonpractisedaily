{
 "cells": [
  {
   "cell_type": "code",
   "execution_count": null,
   "id": "a18f325d-d79c-476d-aaf1-d30bb1403a29",
   "metadata": {},
   "outputs": [],
   "source": [
    "#Find the Mean value of numbers between 25-32\n",
    "#Find what is the 5th power of 15\n",
    "#Solve S=((4+c)-2ab)/100"
   ]
  }
 ],
 "metadata": {
  "kernelspec": {
   "display_name": "Python 3 (ipykernel)",
   "language": "python",
   "name": "python3"
  },
  "language_info": {
   "codemirror_mode": {
    "name": "ipython",
    "version": 3
   },
   "file_extension": ".py",
   "mimetype": "text/x-python",
   "name": "python",
   "nbconvert_exporter": "python",
   "pygments_lexer": "ipython3",
   "version": "3.13.0"
  }
 },
 "nbformat": 4,
 "nbformat_minor": 5
}
