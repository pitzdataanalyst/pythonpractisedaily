{
 "cells": [
  {
   "cell_type": "code",
   "execution_count": 1,
   "id": "0ef612a4-d8d8-45fc-8082-493ab7dbadb3",
   "metadata": {},
   "outputs": [],
   "source": [
    "#Class 2 Practise \n"
   ]
  },
  {
   "cell_type": "code",
   "execution_count": 3,
   "id": "cfc9cf9e-120f-4008-b9a5-8ba29d5584f4",
   "metadata": {},
   "outputs": [],
   "source": [
    "#There are 7 types of Operators "
   ]
  },
  {
   "cell_type": "code",
   "execution_count": null,
   "id": "7b699f66-84ab-4442-806c-9773031d9069",
   "metadata": {},
   "outputs": [],
   "source": [
    "#Arithematic Operators "
   ]
  },
  {
   "cell_type": "code",
   "execution_count": 13,
   "id": "0fca96b9-4805-4304-9c51-e705ae6bcc6b",
   "metadata": {},
   "outputs": [
    {
     "name": "stdin",
     "output_type": "stream",
     "text": [
      "Enter your Principle: 200\n",
      "Enter your duration: 9\n",
      "enter the rate of intrest: 9.0\n"
     ]
    },
    {
     "name": "stdout",
     "output_type": "stream",
     "text": [
      "the intrest you have to pay upon your Principle  200  for the years 9 with the rate of intrest 9.0 is 162.0\n"
     ]
    }
   ],
   "source": [
    "#WAP to calculate the simple intrest \n",
    "principleamt=int(input(\"Enter your Principle:\"))\n",
    "Duration=int(input(\"Enter your duration:\"))\n",
    "rateofintrest=float(input(\"enter the rate of intrest:\"))\n",
    "intrest=(principleamt*Duration*rateofintrest)/100\n",
    "print(\"the intrest you have to pay upon your Principle \", principleamt ,\" for the years\",Duration,\"with the rate of intrest\",rateofintrest,\"is\",intrest)\n",
    "\n",
    "    "
   ]
  },
  {
   "cell_type": "code",
   "execution_count": 14,
   "id": "e38e6bc7-8d46-45d9-a1c5-72f04cdee945",
   "metadata": {},
   "outputs": [],
   "source": [
    "#Area of Triangle"
   ]
  },
  {
   "cell_type": "code",
   "execution_count": 21,
   "id": "a78de7ea-addd-41f8-b737-49d6d584d8a4",
   "metadata": {},
   "outputs": [
    {
     "name": "stdin",
     "output_type": "stream",
     "text": [
      "Enter the base: 10\n",
      "Enter the height: 5\n"
     ]
    },
    {
     "ename": "TypeError",
     "evalue": "'tuple' object is not callable",
     "output_type": "error",
     "traceback": [
      "\u001b[1;31m---------------------------------------------------------------------------\u001b[0m",
      "\u001b[1;31mTypeError\u001b[0m                                 Traceback (most recent call last)",
      "Cell \u001b[1;32mIn[21], line 4\u001b[0m\n\u001b[0;32m      2\u001b[0m ht \u001b[38;5;241m=\u001b[39m \u001b[38;5;28mint\u001b[39m(\u001b[38;5;28minput\u001b[39m(\u001b[38;5;124m\"\u001b[39m\u001b[38;5;124mEnter the height:\u001b[39m\u001b[38;5;124m\"\u001b[39m))\n\u001b[0;32m      3\u001b[0m area \u001b[38;5;241m=\u001b[39m (base\u001b[38;5;241m*\u001b[39mht)\u001b[38;5;241m/\u001b[39m\u001b[38;5;241m2\u001b[39m\n\u001b[1;32m----> 4\u001b[0m \u001b[38;5;28;43mprint\u001b[39;49m\u001b[43m(\u001b[49m\u001b[38;5;124;43m\"\u001b[39;49m\u001b[38;5;124;43mThe Area of Triangle\u001b[39;49m\u001b[38;5;124;43m\"\u001b[39;49m\u001b[43m,\u001b[49m\u001b[43m \u001b[49m\u001b[43marea\u001b[49m\u001b[43m)\u001b[49m\n",
      "\u001b[1;31mTypeError\u001b[0m: 'tuple' object is not callable"
     ]
    }
   ],
   "source": [
    "base = int(input(\"Enter the base:\"))\n",
    "ht = int(input(\"Enter the height:\"))\n",
    "area = (base*ht)/2\n",
    "print(\"The Area of Triangle\", area)\n"
   ]
  },
  {
   "cell_type": "code",
   "execution_count": 22,
   "id": "68b53233-e305-47f3-8043-8a7c3b1ce492",
   "metadata": {},
   "outputs": [],
   "source": [
    "#Comparision OR Relational Operators \n",
    "#it is used to compare the value , the O/P is in boolean Format(T/F)\n"
   ]
  },
  {
   "cell_type": "code",
   "execution_count": 28,
   "id": "4082a2f9-126e-4494-a3eb-3351e8d9f776",
   "metadata": {},
   "outputs": [
    {
     "ename": "TypeError",
     "evalue": "'tuple' object is not callable",
     "output_type": "error",
     "traceback": [
      "\u001b[1;31m---------------------------------------------------------------------------\u001b[0m",
      "\u001b[1;31mTypeError\u001b[0m                                 Traceback (most recent call last)",
      "Cell \u001b[1;32mIn[28], line 4\u001b[0m\n\u001b[0;32m      2\u001b[0m num2 \u001b[38;5;241m=\u001b[39m \u001b[38;5;241m2\u001b[39m\n\u001b[0;32m      3\u001b[0m \u001b[38;5;66;03m# equal to\u001b[39;00m\n\u001b[1;32m----> 4\u001b[0m \u001b[38;5;28;43mprint\u001b[39;49m\u001b[43m(\u001b[49m\u001b[43mnum1\u001b[49m\u001b[43m \u001b[49m\u001b[38;5;241;43m==\u001b[39;49m\u001b[43m \u001b[49m\u001b[43mnum2\u001b[49m\u001b[43m)\u001b[49m\n",
      "\u001b[1;31mTypeError\u001b[0m: 'tuple' object is not callable"
     ]
    }
   ],
   "source": [
    "num1 = 2\n",
    "num2 = 2\n",
    "# equal to\n",
    "print(num1 == num2)"
   ]
  },
  {
   "cell_type": "code",
   "execution_count": 32,
   "id": "28f4d489-abba-48ff-a22a-f4ca512654d5",
   "metadata": {},
   "outputs": [
    {
     "ename": "NameError",
     "evalue": "name 'print' is not defined",
     "output_type": "error",
     "traceback": [
      "\u001b[1;31m---------------------------------------------------------------------------\u001b[0m",
      "\u001b[1;31mNameError\u001b[0m                                 Traceback (most recent call last)",
      "Cell \u001b[1;32mIn[32], line 1\u001b[0m\n\u001b[1;32m----> 1\u001b[0m \u001b[38;5;28;01mdel\u001b[39;00m \u001b[38;5;28;43mprint\u001b[39;49m\n",
      "\u001b[1;31mNameError\u001b[0m: name 'print' is not defined"
     ]
    }
   ],
   "source": [
    "del print"
   ]
  },
  {
   "cell_type": "code",
   "execution_count": 34,
   "id": "e3200db4-ed2a-439f-bc2d-de71fbae9f7a",
   "metadata": {},
   "outputs": [
    {
     "name": "stdout",
     "output_type": "stream",
     "text": [
      "True\n"
     ]
    }
   ],
   "source": [
    "num1 = 2\n",
    "num2 = 2\n",
    "# equal to\n",
    "print(num1 == num2)"
   ]
  },
  {
   "cell_type": "code",
   "execution_count": 37,
   "id": "257a3351-faa0-441b-b2ec-24c14974fd54",
   "metadata": {},
   "outputs": [
    {
     "name": "stdout",
     "output_type": "stream",
     "text": [
      "False\n"
     ]
    }
   ],
   "source": [
    "name1 = \"Piyu\"\n",
    "name2 = \"piyu\"\n",
    "print(name1 == name2)\n"
   ]
  },
  {
   "cell_type": "code",
   "execution_count": 43,
   "id": "a27107f5-dc99-46e9-9460-bec28ab954c5",
   "metadata": {},
   "outputs": [
    {
     "name": "stdout",
     "output_type": "stream",
     "text": [
      "True\n",
      "True\n",
      "False\n"
     ]
    }
   ],
   "source": [
    "#not equal to \n",
    "num1 = 50 \n",
    "num2 = 20\n",
    "print(num1 != num2)\n",
    "print(num1 >= num2)\n",
    "print(num1 <= num2)"
   ]
  },
  {
   "cell_type": "code",
   "execution_count": 47,
   "id": "e96b5fad-ddae-46bb-ae45-71811d4515ad",
   "metadata": {},
   "outputs": [
    {
     "name": "stdout",
     "output_type": "stream",
     "text": [
      "True\n"
     ]
    }
   ],
   "source": [
    "#WAP to check the eligibility for voting \n",
    "\n",
    "age = 50\n",
    "print(age>=18)\n"
   ]
  },
  {
   "cell_type": "code",
   "execution_count": 50,
   "id": "390769ac-50a1-4c25-b35a-5d944c743e69",
   "metadata": {},
   "outputs": [
    {
     "name": "stdout",
     "output_type": "stream",
     "text": [
      "False\n"
     ]
    }
   ],
   "source": [
    "age=4\n",
    "print(age>=18)"
   ]
  },
  {
   "cell_type": "code",
   "execution_count": 52,
   "id": "1695c590-d698-4ce4-96f4-a2490403060c",
   "metadata": {},
   "outputs": [
    {
     "name": "stdout",
     "output_type": "stream",
     "text": [
      "55\n",
      "False\n"
     ]
    }
   ],
   "source": [
    "#Check if the sum of numbers from 1-10 is 50 \n",
    "\n",
    "num = 1+2+3+4+5+6+7+8+9+10\n",
    "print(num)\n",
    "print(num == 50)"
   ]
  },
  {
   "cell_type": "code",
   "execution_count": 59,
   "id": "6b1684ba-be48-4d13-af87-a4e63482e9df",
   "metadata": {},
   "outputs": [
    {
     "name": "stdout",
     "output_type": "stream",
     "text": [
      "True this is triat\n"
     ]
    }
   ],
   "source": [
    "#checkl the Pytho Triangle\n",
    "a=3\n",
    "b=4\n",
    "h=5\n",
    "print((a*a)+(b**2)==(h*h), \"this is triat\")"
   ]
  }
 ],
 "metadata": {
  "kernelspec": {
   "display_name": "Python 3 (ipykernel)",
   "language": "python",
   "name": "python3"
  },
  "language_info": {
   "codemirror_mode": {
    "name": "ipython",
    "version": 3
   },
   "file_extension": ".py",
   "mimetype": "text/x-python",
   "name": "python",
   "nbconvert_exporter": "python",
   "pygments_lexer": "ipython3",
   "version": "3.13.0"
  }
 },
 "nbformat": 4,
 "nbformat_minor": 5
}
