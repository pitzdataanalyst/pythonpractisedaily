{
 "cells": [
  {
   "cell_type": "code",
   "execution_count": 2,
   "id": "019ca7bc-655c-4ebd-8723-74232ca4db47",
   "metadata": {},
   "outputs": [],
   "source": [
    "#Logoical Operator \n",
    "#o/p will be True of False \n",
    "#Works for conditions "
   ]
  },
  {
   "cell_type": "code",
   "execution_count": 6,
   "id": "e8b8b1ec-e9ef-4f30-bcd9-49b25fbf5d32",
   "metadata": {},
   "outputs": [
    {
     "name": "stdin",
     "output_type": "stream",
     "text": [
      "enter a value: 2\n"
     ]
    },
    {
     "name": "stdout",
     "output_type": "stream",
     "text": [
      "False\n"
     ]
    }
   ],
   "source": [
    "#AND \n",
    "x=int(input(\"enter a value:\"))\n",
    "print(x<10 and x>3)  #the first condition itself is false therefore , everything is false "
   ]
  },
  {
   "cell_type": "code",
   "execution_count": 10,
   "id": "f92e2b35-f39a-48c1-99ea-1f850f0b1f6c",
   "metadata": {},
   "outputs": [
    {
     "name": "stdin",
     "output_type": "stream",
     "text": [
      "Enter the value: 2\n"
     ]
    },
    {
     "name": "stdout",
     "output_type": "stream",
     "text": [
      "True\n"
     ]
    }
   ],
   "source": [
    "#OR\n",
    "x=int(input(\"Enter the value:\" ))\n",
    "print(x==2 or x>5) #either of the conditions should be correct "
   ]
  },
  {
   "cell_type": "code",
   "execution_count": 12,
   "id": "9a7fa090-d124-4431-8cf1-0cb3daf17c59",
   "metadata": {},
   "outputs": [
    {
     "name": "stdout",
     "output_type": "stream",
     "text": [
      "True\n"
     ]
    }
   ],
   "source": [
    "#WAP to find if a number is divisible by 3 & is even \n",
    "num=24\n",
    "print(num %3==0 and num%2==0)\n"
   ]
  },
  {
   "cell_type": "code",
   "execution_count": 14,
   "id": "da618ad3-082b-4243-8217-ef0e6ebb5e08",
   "metadata": {},
   "outputs": [
    {
     "name": "stdout",
     "output_type": "stream",
     "text": [
      "False\n"
     ]
    }
   ],
   "source": [
    "#WAP to find the opposite output of above \n",
    "print((num %3==0 and num%2==0)!=True)"
   ]
  },
  {
   "cell_type": "code",
   "execution_count": 15,
   "id": "bd551ceb-bf62-4e8e-aab8-3c557dff492b",
   "metadata": {},
   "outputs": [
    {
     "name": "stdout",
     "output_type": "stream",
     "text": [
      "True\n"
     ]
    }
   ],
   "source": [
    "#WAP to check if the customer is of male gender or he is above 18\n",
    "\n",
    "gender=\"male\"\n",
    "age=10\n",
    "print(gender==\"male\" or age>18) #either of the condition should be true "
   ]
  }
 ],
 "metadata": {
  "kernelspec": {
   "display_name": "Python 3 (ipykernel)",
   "language": "python",
   "name": "python3"
  },
  "language_info": {
   "codemirror_mode": {
    "name": "ipython",
    "version": 3
   },
   "file_extension": ".py",
   "mimetype": "text/x-python",
   "name": "python",
   "nbconvert_exporter": "python",
   "pygments_lexer": "ipython3",
   "version": "3.13.0"
  }
 },
 "nbformat": 4,
 "nbformat_minor": 5
}
