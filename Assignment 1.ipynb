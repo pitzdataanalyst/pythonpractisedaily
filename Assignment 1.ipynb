{
 "cells": [
  {
   "cell_type": "code",
   "execution_count": 1,
   "id": "e8e160c3-16b4-4e06-a04f-1baa2d9a6487",
   "metadata": {},
   "outputs": [],
   "source": [
    "#Assignment 1\n",
    "#Write a code For a n ATM display \n",
    "#1 -Display your Bank Name \n",
    "#2 -what to do : input for cash withdrawal,dep[osit\n",
    "#3 -Ask the amount\n",
    "#4 -Ask for the PIN\n",
    "#5 -Show the amount withdraw OR Deposited"
   ]
  },
  {
   "cell_type": "code",
   "execution_count": 7,
   "id": "7eadf21d-dcf1-4ea9-8b30-1b96a13b2bf1",
   "metadata": {},
   "outputs": [
    {
     "name": "stdout",
     "output_type": "stream",
     "text": [
      "Hi ! Welcome to HDFC Bank\n"
     ]
    },
    {
     "name": "stdin",
     "output_type": "stream",
     "text": [
      "Would you like to withdraw the cash OR desposit the cash deposit\n",
      "Please enter your Amount 1000000\n"
     ]
    },
    {
     "name": "stdout",
     "output_type": "stream",
     "text": [
      "1000000\n"
     ]
    },
    {
     "name": "stdin",
     "output_type": "stream",
     "text": [
      "Please enter the PIN 2342\n"
     ]
    },
    {
     "name": "stdout",
     "output_type": "stream",
     "text": [
      "Thank you for your trust with us , please collect your Cash\n"
     ]
    }
   ],
   "source": [
    "print (\"Hi ! Welcome to HDFC Bank\")\n",
    "activity=input(\"Would you like to withdraw the cash OR desposit the cash\")\n",
    "print(activity)\n",
    "Amt= input(\"Please enter your Amount\")\n",
    "print(Amt)\n",
    "PIN=input(\"Please enter the PIN\")\n",
    "print(\"your\",activity,\"amount is\", Amt)"
   ]
  },
  {
   "cell_type": "code",
   "execution_count": 8,
   "id": "ae9ee331-45be-4021-a24d-0b563c2cbcd1",
   "metadata": {},
   "outputs": [
    {
     "name": "stdout",
     "output_type": "stream",
     "text": [
      "Hi ! Welcome to HDFC Bank\n"
     ]
    },
    {
     "name": "stdin",
     "output_type": "stream",
     "text": [
      "Would you like to withdraw the cash OR desposit the cash deposit\n"
     ]
    },
    {
     "name": "stdout",
     "output_type": "stream",
     "text": [
      "deposit\n"
     ]
    },
    {
     "name": "stdin",
     "output_type": "stream",
     "text": [
      "Please enter your Amount 2000\n"
     ]
    },
    {
     "name": "stdout",
     "output_type": "stream",
     "text": [
      "2000\n"
     ]
    },
    {
     "name": "stdin",
     "output_type": "stream",
     "text": [
      "Please enter the PIN 2321\n"
     ]
    },
    {
     "name": "stdout",
     "output_type": "stream",
     "text": [
      "your deposit amount is 2000\n"
     ]
    }
   ],
   "source": [
    "print (\"Hi ! Welcome to HDFC Bank\")\n",
    "activity=input(\"Would you like to withdraw the cash OR desposit the cash\")\n",
    "print(activity)\n",
    "Amt= input(\"Please enter your Amount\")\n",
    "print(Amt)\n",
    "PIN=input(\"Please enter the PIN\")\n",
    "print(\"your\",activity,\"amount is\", Amt)\n"
   ]
  }
 ],
 "metadata": {
  "kernelspec": {
   "display_name": "Python 3 (ipykernel)",
   "language": "python",
   "name": "python3"
  },
  "language_info": {
   "codemirror_mode": {
    "name": "ipython",
    "version": 3
   },
   "file_extension": ".py",
   "mimetype": "text/x-python",
   "name": "python",
   "nbconvert_exporter": "python",
   "pygments_lexer": "ipython3",
   "version": "3.13.0"
  }
 },
 "nbformat": 4,
 "nbformat_minor": 5
}
